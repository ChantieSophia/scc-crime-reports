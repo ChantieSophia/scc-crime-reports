{
 "cells": [
  {
   "cell_type": "markdown",
   "metadata": {},
   "source": [
    "# Exploratory Data Analysis on crime reports from Santa Clara County "
   ]
  },
  {
   "cell_type": "markdown",
   "metadata": {},
   "source": [
    "Goals:\n",
    "1. Look at the trend of crime reports count since the beginning of 2020 till now\n",
    "2. Build a model to predict crime reports count given the month, day and hour of the day\n",
    "\n",
    "Strctures:\n",
    "1. Get the datasource by calling the portal API\n",
    "2. Explore the data and clean the data if necessary\n",
    "3. Create plots\n",
    "4. Build a model\n",
    "5. Conclusions\n",
    "\n",
    "Laugange: Python\n",
    "Tools: Pandas, Numpy, Matplotlib.pyplot, Seaborn, Socrata, Skitlearn\n",
    "\n",
    "Data Source: [Source](https://data.sccgov.org/Public-Safety/Crime-Reports/n9u6-aijz). Last Updated at July 28, 2021"
   ]
  },
  {
   "cell_type": "code",
   "execution_count": 1,
   "metadata": {},
   "outputs": [],
   "source": [
    "import pandas as pd\n",
    "import numpy as np\n",
    "import matplotlib.pyplot as plt\n",
    "import seaborn as sns\n",
    "import datetime as dt"
   ]
  },
  {
   "cell_type": "code",
   "execution_count": 2,
   "metadata": {},
   "outputs": [],
   "source": [
    "from sodapy import Socrata\n",
    "# token, username and password \n",
    "client = Socrata(\"data.sccgov.org\",\n",
    "                 \"token\",\n",
    "                 username=\"email\",\n",
    "                 password=\"password\")"
   ]
  },
  {
   "cell_type": "code",
   "execution_count": 4,
   "metadata": {},
   "outputs": [],
   "source": [
    "import itertools\n",
    "items = client.get_all(\"n9u6-aijz\") # this is the internal id of the report\n",
    "limit_len = len(list(items))"
   ]
  },
  {
   "cell_type": "code",
   "execution_count": 5,
   "metadata": {},
   "outputs": [],
   "source": [
    "results = client.get(\"n9u6-aijz\",limit=limit_len)\n",
    "df = pd.DataFrame.from_records(results)"
   ]
  },
  {
   "cell_type": "code",
   "execution_count": 6,
   "metadata": {},
   "outputs": [
    {
     "data": {
      "text/html": [
       "<div>\n",
       "<style scoped>\n",
       "    .dataframe tbody tr th:only-of-type {\n",
       "        vertical-align: middle;\n",
       "    }\n",
       "\n",
       "    .dataframe tbody tr th {\n",
       "        vertical-align: top;\n",
       "    }\n",
       "\n",
       "    .dataframe thead th {\n",
       "        text-align: right;\n",
       "    }\n",
       "</style>\n",
       "<table border=\"1\" class=\"dataframe\">\n",
       "  <thead>\n",
       "    <tr style=\"text-align: right;\">\n",
       "      <th></th>\n",
       "      <th>case_number</th>\n",
       "      <th>incident_datetime</th>\n",
       "      <th>incident_description</th>\n",
       "      <th>address_1</th>\n",
       "      <th>city</th>\n",
       "      <th>state</th>\n",
       "      <th>parent_incident_type</th>\n",
       "      <th>incident_type_primary</th>\n",
       "    </tr>\n",
       "  </thead>\n",
       "  <tbody>\n",
       "    <tr>\n",
       "      <th>0</th>\n",
       "      <td>S212090045</td>\n",
       "      <td>2021-07-28T05:08:31.000</td>\n",
       "      <td>Call Type: 1053   &lt;br&gt;Description: PERSON DOWN...</td>\n",
       "      <td>400 Block S BASCOM AV</td>\n",
       "      <td>Santa Clara County</td>\n",
       "      <td>CA</td>\n",
       "      <td>Other</td>\n",
       "      <td>PERSON DOWN</td>\n",
       "    </tr>\n",
       "    <tr>\n",
       "      <th>1</th>\n",
       "      <td>S212090044</td>\n",
       "      <td>2021-07-28T04:41:45.000</td>\n",
       "      <td>Call Type: 459    &lt;br&gt;Description: BURGLARY (4...</td>\n",
       "      <td>10300 Block STERLING BL</td>\n",
       "      <td>Santa Clara County</td>\n",
       "      <td>CA</td>\n",
       "      <td>Burglary</td>\n",
       "      <td>BURGLARY (460)</td>\n",
       "    </tr>\n",
       "    <tr>\n",
       "      <th>2</th>\n",
       "      <td>S212090042</td>\n",
       "      <td>2021-07-28T04:16:53.000</td>\n",
       "      <td>Call Type: 1033A  &lt;br&gt;Description: ALARM, AUDI...</td>\n",
       "      <td>1600 Block WHITHAM AV</td>\n",
       "      <td>Santa Clara County</td>\n",
       "      <td>CA</td>\n",
       "      <td>Alarm</td>\n",
       "      <td>ALARM, AUDIBLE</td>\n",
       "    </tr>\n",
       "    <tr>\n",
       "      <th>3</th>\n",
       "      <td>S212090031</td>\n",
       "      <td>2021-07-28T02:28:57.000</td>\n",
       "      <td>Call Type: 602    &lt;br&gt;Description: TRESPASSING...</td>\n",
       "      <td>2400 Block ENBORG LN</td>\n",
       "      <td>Santa Clara County</td>\n",
       "      <td>CA</td>\n",
       "      <td>Other</td>\n",
       "      <td>TRESPASSING</td>\n",
       "    </tr>\n",
       "    <tr>\n",
       "      <th>4</th>\n",
       "      <td>S212090029</td>\n",
       "      <td>2021-07-28T02:27:25.000</td>\n",
       "      <td>Call Type: 415M   &lt;br&gt;Description: DISTURBANCE...</td>\n",
       "      <td>400 Block ARLETA AV</td>\n",
       "      <td>Santa Clara County</td>\n",
       "      <td>CA</td>\n",
       "      <td>Disorder</td>\n",
       "      <td>DISTURBANCE, MUSIC</td>\n",
       "    </tr>\n",
       "  </tbody>\n",
       "</table>\n",
       "</div>"
      ],
      "text/plain": [
       "  case_number        incident_datetime  \\\n",
       "0  S212090045  2021-07-28T05:08:31.000   \n",
       "1  S212090044  2021-07-28T04:41:45.000   \n",
       "2  S212090042  2021-07-28T04:16:53.000   \n",
       "3  S212090031  2021-07-28T02:28:57.000   \n",
       "4  S212090029  2021-07-28T02:27:25.000   \n",
       "\n",
       "                                incident_description                address_1  \\\n",
       "0  Call Type: 1053   <br>Description: PERSON DOWN...    400 Block S BASCOM AV   \n",
       "1  Call Type: 459    <br>Description: BURGLARY (4...  10300 Block STERLING BL   \n",
       "2  Call Type: 1033A  <br>Description: ALARM, AUDI...    1600 Block WHITHAM AV   \n",
       "3  Call Type: 602    <br>Description: TRESPASSING...     2400 Block ENBORG LN   \n",
       "4  Call Type: 415M   <br>Description: DISTURBANCE...      400 Block ARLETA AV   \n",
       "\n",
       "                 city state parent_incident_type incident_type_primary  \n",
       "0  Santa Clara County    CA                Other           PERSON DOWN  \n",
       "1  Santa Clara County    CA             Burglary        BURGLARY (460)  \n",
       "2  Santa Clara County    CA                Alarm        ALARM, AUDIBLE  \n",
       "3  Santa Clara County    CA                Other           TRESPASSING  \n",
       "4  Santa Clara County    CA             Disorder    DISTURBANCE, MUSIC  "
      ]
     },
     "execution_count": 6,
     "metadata": {},
     "output_type": "execute_result"
    }
   ],
   "source": [
    "df.head()"
   ]
  },
  {
   "cell_type": "code",
   "execution_count": 9,
   "metadata": {},
   "outputs": [
    {
     "name": "stdout",
     "output_type": "stream",
     "text": [
      "<class 'pandas.core.frame.DataFrame'>\n",
      "RangeIndex: 141337 entries, 0 to 141336\n",
      "Data columns (total 8 columns):\n",
      " #   Column                 Non-Null Count   Dtype \n",
      "---  ------                 --------------   ----- \n",
      " 0   case_number            141337 non-null  object\n",
      " 1   incident_datetime      141326 non-null  object\n",
      " 2   incident_description   141312 non-null  object\n",
      " 3   address_1              141138 non-null  object\n",
      " 4   city                   141099 non-null  object\n",
      " 5   state                  141083 non-null  object\n",
      " 6   parent_incident_type   141080 non-null  object\n",
      " 7   incident_type_primary  141060 non-null  object\n",
      "dtypes: object(8)\n",
      "memory usage: 4.3+ MB\n"
     ]
    }
   ],
   "source": [
    "df.info()"
   ]
  },
  {
   "cell_type": "markdown",
   "metadata": {},
   "source": [
    "### Drop null values"
   ]
  },
  {
   "cell_type": "code",
   "execution_count": 10,
   "metadata": {},
   "outputs": [
    {
     "name": "stdout",
     "output_type": "stream",
     "text": [
      "<class 'pandas.core.frame.DataFrame'>\n",
      "Int64Index: 141059 entries, 0 to 141335\n",
      "Data columns (total 8 columns):\n",
      " #   Column                 Non-Null Count   Dtype \n",
      "---  ------                 --------------   ----- \n",
      " 0   case_number            141059 non-null  object\n",
      " 1   incident_datetime      141059 non-null  object\n",
      " 2   incident_description   141059 non-null  object\n",
      " 3   address_1              141059 non-null  object\n",
      " 4   city                   141059 non-null  object\n",
      " 5   state                  141059 non-null  object\n",
      " 6   parent_incident_type   141059 non-null  object\n",
      " 7   incident_type_primary  141059 non-null  object\n",
      "dtypes: object(8)\n",
      "memory usage: 5.4+ MB\n"
     ]
    }
   ],
   "source": [
    "df = df.dropna(how='any',axis=0) \n",
    "df.info()"
   ]
  },
  {
   "cell_type": "code",
   "execution_count": 11,
   "metadata": {},
   "outputs": [
    {
     "data": {
      "text/html": [
       "<div>\n",
       "<style scoped>\n",
       "    .dataframe tbody tr th:only-of-type {\n",
       "        vertical-align: middle;\n",
       "    }\n",
       "\n",
       "    .dataframe tbody tr th {\n",
       "        vertical-align: top;\n",
       "    }\n",
       "\n",
       "    .dataframe thead th {\n",
       "        text-align: right;\n",
       "    }\n",
       "</style>\n",
       "<table border=\"1\" class=\"dataframe\">\n",
       "  <thead>\n",
       "    <tr style=\"text-align: right;\">\n",
       "      <th></th>\n",
       "      <th>case_number</th>\n",
       "      <th>incident_datetime</th>\n",
       "      <th>incident_description</th>\n",
       "      <th>address_1</th>\n",
       "      <th>city</th>\n",
       "      <th>state</th>\n",
       "      <th>parent_incident_type</th>\n",
       "      <th>incident_type_primary</th>\n",
       "    </tr>\n",
       "  </thead>\n",
       "  <tbody>\n",
       "    <tr>\n",
       "      <th>count</th>\n",
       "      <td>141059</td>\n",
       "      <td>141059</td>\n",
       "      <td>141059</td>\n",
       "      <td>141059</td>\n",
       "      <td>141059</td>\n",
       "      <td>141059</td>\n",
       "      <td>141059</td>\n",
       "      <td>141059</td>\n",
       "    </tr>\n",
       "    <tr>\n",
       "      <th>unique</th>\n",
       "      <td>141059</td>\n",
       "      <td>141020</td>\n",
       "      <td>1039</td>\n",
       "      <td>20081</td>\n",
       "      <td>1</td>\n",
       "      <td>1</td>\n",
       "      <td>25</td>\n",
       "      <td>247</td>\n",
       "    </tr>\n",
       "    <tr>\n",
       "      <th>top</th>\n",
       "      <td>S201500285</td>\n",
       "      <td>2021-05-11T16:49:30.000</td>\n",
       "      <td>Call Type: INFO   &lt;br&gt;Description: EVENT FOR I...</td>\n",
       "      <td>700 Block BLOCK S BASCOM AV</td>\n",
       "      <td>Santa Clara County</td>\n",
       "      <td>CA</td>\n",
       "      <td>Other</td>\n",
       "      <td>EVENT FOR INFO ONLY</td>\n",
       "    </tr>\n",
       "    <tr>\n",
       "      <th>freq</th>\n",
       "      <td>1</td>\n",
       "      <td>2</td>\n",
       "      <td>9594</td>\n",
       "      <td>1667</td>\n",
       "      <td>141059</td>\n",
       "      <td>141059</td>\n",
       "      <td>47270</td>\n",
       "      <td>11598</td>\n",
       "    </tr>\n",
       "  </tbody>\n",
       "</table>\n",
       "</div>"
      ],
      "text/plain": [
       "       case_number        incident_datetime  \\\n",
       "count       141059                   141059   \n",
       "unique      141059                   141020   \n",
       "top     S201500285  2021-05-11T16:49:30.000   \n",
       "freq             1                        2   \n",
       "\n",
       "                                     incident_description  \\\n",
       "count                                              141059   \n",
       "unique                                               1039   \n",
       "top     Call Type: INFO   <br>Description: EVENT FOR I...   \n",
       "freq                                                 9594   \n",
       "\n",
       "                          address_1                city   state  \\\n",
       "count                        141059              141059  141059   \n",
       "unique                        20081                   1       1   \n",
       "top     700 Block BLOCK S BASCOM AV  Santa Clara County      CA   \n",
       "freq                           1667              141059  141059   \n",
       "\n",
       "       parent_incident_type incident_type_primary  \n",
       "count                141059                141059  \n",
       "unique                   25                   247  \n",
       "top                   Other   EVENT FOR INFO ONLY  \n",
       "freq                  47270                 11598  "
      ]
     },
     "execution_count": 11,
     "metadata": {},
     "output_type": "execute_result"
    }
   ],
   "source": [
    "df.describe()"
   ]
  },
  {
   "cell_type": "code",
   "execution_count": null,
   "metadata": {},
   "outputs": [],
   "source": [
    "# Incident_description columns consists of long strings. Take a closer look at what the values are\n",
    "description = list(df['incident_description'])\n",
    "primary_type = list(df['incident_type_primary'])\n",
    "print(description[0])\n",
    "print(primary_type[0])\n",
    "print(description[45:50])\n",
    "print(primary_type[45:50])"
   ]
  },
  {
   "cell_type": "code",
   "execution_count": 30,
   "metadata": {},
   "outputs": [],
   "source": [
    "# looks like the information not covered in other columns are \"Call Type \" and \"Final Disposition\"\n",
    "# store call_type in an individual column\n",
    "incident_description = df['incident_description'].str.split('<br>', expand = True)\n",
    "df['call_type'] = incident_description[0]\n",
    "df['call_type'] = df['call_type'].str[len('Call Type: '):]\n",
    "df['call_type'] = df['call_type'].str.strip()"
   ]
  },
  {
   "cell_type": "code",
   "execution_count": 27,
   "metadata": {},
   "outputs": [],
   "source": [
    "# store final_dispostion in an individual column\n",
    "df['final_disposition']= incident_description[2]\n",
    "stop_at = len('Final Disposition: ')\n",
    "df['final_disposition'] = df['final_disposition'].str[stop_at:]\n",
    "df['final_disposition'] = df['final_disposition'].str.strip()"
   ]
  },
  {
   "cell_type": "code",
   "execution_count": 29,
   "metadata": {},
   "outputs": [
    {
     "data": {
      "text/html": [
       "<div>\n",
       "<style scoped>\n",
       "    .dataframe tbody tr th:only-of-type {\n",
       "        vertical-align: middle;\n",
       "    }\n",
       "\n",
       "    .dataframe tbody tr th {\n",
       "        vertical-align: top;\n",
       "    }\n",
       "\n",
       "    .dataframe thead th {\n",
       "        text-align: right;\n",
       "    }\n",
       "</style>\n",
       "<table border=\"1\" class=\"dataframe\">\n",
       "  <thead>\n",
       "    <tr style=\"text-align: right;\">\n",
       "      <th></th>\n",
       "      <th>case_number</th>\n",
       "      <th>incident_datetime</th>\n",
       "      <th>incident_description</th>\n",
       "      <th>address_1</th>\n",
       "      <th>city</th>\n",
       "      <th>state</th>\n",
       "      <th>parent_incident_type</th>\n",
       "      <th>incident_type_primary</th>\n",
       "      <th>final_disposition</th>\n",
       "      <th>call_type</th>\n",
       "    </tr>\n",
       "  </thead>\n",
       "  <tbody>\n",
       "    <tr>\n",
       "      <th>0</th>\n",
       "      <td>S212090045</td>\n",
       "      <td>2021-07-28T05:08:31.000</td>\n",
       "      <td>Call Type: 1053   &lt;br&gt;Description: PERSON DOWN...</td>\n",
       "      <td>400 Block S BASCOM AV</td>\n",
       "      <td>Santa Clara County</td>\n",
       "      <td>CA</td>\n",
       "      <td>Other</td>\n",
       "      <td>PERSON DOWN</td>\n",
       "      <td>N</td>\n",
       "      <td>1053</td>\n",
       "    </tr>\n",
       "    <tr>\n",
       "      <th>1</th>\n",
       "      <td>S212090044</td>\n",
       "      <td>2021-07-28T04:41:45.000</td>\n",
       "      <td>Call Type: 459    &lt;br&gt;Description: BURGLARY (4...</td>\n",
       "      <td>10300 Block STERLING BL</td>\n",
       "      <td>Santa Clara County</td>\n",
       "      <td>CA</td>\n",
       "      <td>Burglary</td>\n",
       "      <td>BURGLARY (460)</td>\n",
       "      <td>N</td>\n",
       "      <td>459</td>\n",
       "    </tr>\n",
       "    <tr>\n",
       "      <th>2</th>\n",
       "      <td>S212090042</td>\n",
       "      <td>2021-07-28T04:16:53.000</td>\n",
       "      <td>Call Type: 1033A  &lt;br&gt;Description: ALARM, AUDI...</td>\n",
       "      <td>1600 Block WHITHAM AV</td>\n",
       "      <td>Santa Clara County</td>\n",
       "      <td>CA</td>\n",
       "      <td>Alarm</td>\n",
       "      <td>ALARM, AUDIBLE</td>\n",
       "      <td>N</td>\n",
       "      <td>1033A</td>\n",
       "    </tr>\n",
       "    <tr>\n",
       "      <th>3</th>\n",
       "      <td>S212090031</td>\n",
       "      <td>2021-07-28T02:28:57.000</td>\n",
       "      <td>Call Type: 602    &lt;br&gt;Description: TRESPASSING...</td>\n",
       "      <td>2400 Block ENBORG LN</td>\n",
       "      <td>Santa Clara County</td>\n",
       "      <td>CA</td>\n",
       "      <td>Other</td>\n",
       "      <td>TRESPASSING</td>\n",
       "      <td>N</td>\n",
       "      <td>602</td>\n",
       "    </tr>\n",
       "    <tr>\n",
       "      <th>4</th>\n",
       "      <td>S212090029</td>\n",
       "      <td>2021-07-28T02:27:25.000</td>\n",
       "      <td>Call Type: 415M   &lt;br&gt;Description: DISTURBANCE...</td>\n",
       "      <td>400 Block ARLETA AV</td>\n",
       "      <td>Santa Clara County</td>\n",
       "      <td>CA</td>\n",
       "      <td>Disorder</td>\n",
       "      <td>DISTURBANCE, MUSIC</td>\n",
       "      <td>N</td>\n",
       "      <td>415M</td>\n",
       "    </tr>\n",
       "  </tbody>\n",
       "</table>\n",
       "</div>"
      ],
      "text/plain": [
       "  case_number        incident_datetime  \\\n",
       "0  S212090045  2021-07-28T05:08:31.000   \n",
       "1  S212090044  2021-07-28T04:41:45.000   \n",
       "2  S212090042  2021-07-28T04:16:53.000   \n",
       "3  S212090031  2021-07-28T02:28:57.000   \n",
       "4  S212090029  2021-07-28T02:27:25.000   \n",
       "\n",
       "                                incident_description                address_1  \\\n",
       "0  Call Type: 1053   <br>Description: PERSON DOWN...    400 Block S BASCOM AV   \n",
       "1  Call Type: 459    <br>Description: BURGLARY (4...  10300 Block STERLING BL   \n",
       "2  Call Type: 1033A  <br>Description: ALARM, AUDI...    1600 Block WHITHAM AV   \n",
       "3  Call Type: 602    <br>Description: TRESPASSING...     2400 Block ENBORG LN   \n",
       "4  Call Type: 415M   <br>Description: DISTURBANCE...      400 Block ARLETA AV   \n",
       "\n",
       "                 city state parent_incident_type incident_type_primary  \\\n",
       "0  Santa Clara County    CA                Other           PERSON DOWN   \n",
       "1  Santa Clara County    CA             Burglary        BURGLARY (460)   \n",
       "2  Santa Clara County    CA                Alarm        ALARM, AUDIBLE   \n",
       "3  Santa Clara County    CA                Other           TRESPASSING   \n",
       "4  Santa Clara County    CA             Disorder    DISTURBANCE, MUSIC   \n",
       "\n",
       "  final_disposition call_type  \n",
       "0                 N      1053  \n",
       "1                 N       459  \n",
       "2                 N     1033A  \n",
       "3                 N       602  \n",
       "4                 N      415M  "
      ]
     },
     "execution_count": 29,
     "metadata": {},
     "output_type": "execute_result"
    }
   ],
   "source": [
    "df.head()"
   ]
  },
  {
   "cell_type": "markdown",
   "metadata": {},
   "source": [
    "### Drop not useful columns: incident_description, city, state"
   ]
  },
  {
   "cell_type": "code",
   "execution_count": 36,
   "metadata": {},
   "outputs": [
    {
     "data": {
      "text/html": [
       "<div>\n",
       "<style scoped>\n",
       "    .dataframe tbody tr th:only-of-type {\n",
       "        vertical-align: middle;\n",
       "    }\n",
       "\n",
       "    .dataframe tbody tr th {\n",
       "        vertical-align: top;\n",
       "    }\n",
       "\n",
       "    .dataframe thead th {\n",
       "        text-align: right;\n",
       "    }\n",
       "</style>\n",
       "<table border=\"1\" class=\"dataframe\">\n",
       "  <thead>\n",
       "    <tr style=\"text-align: right;\">\n",
       "      <th></th>\n",
       "      <th>case_number</th>\n",
       "      <th>incident_datetime</th>\n",
       "      <th>parent_incident_type</th>\n",
       "      <th>incident_type_primary</th>\n",
       "      <th>final_disposition</th>\n",
       "      <th>call_type</th>\n",
       "      <th>incident_date</th>\n",
       "      <th>incident_time</th>\n",
       "    </tr>\n",
       "  </thead>\n",
       "  <tbody>\n",
       "    <tr>\n",
       "      <th>0</th>\n",
       "      <td>S212090045</td>\n",
       "      <td>2021-07-28T05:08:31.000</td>\n",
       "      <td>Other</td>\n",
       "      <td>PERSON DOWN</td>\n",
       "      <td>N</td>\n",
       "      <td>1053</td>\n",
       "      <td>2021-07-28</td>\n",
       "      <td>05:08:31.000</td>\n",
       "    </tr>\n",
       "    <tr>\n",
       "      <th>1</th>\n",
       "      <td>S212090044</td>\n",
       "      <td>2021-07-28T04:41:45.000</td>\n",
       "      <td>Burglary</td>\n",
       "      <td>BURGLARY (460)</td>\n",
       "      <td>N</td>\n",
       "      <td>459</td>\n",
       "      <td>2021-07-28</td>\n",
       "      <td>04:41:45.000</td>\n",
       "    </tr>\n",
       "    <tr>\n",
       "      <th>2</th>\n",
       "      <td>S212090042</td>\n",
       "      <td>2021-07-28T04:16:53.000</td>\n",
       "      <td>Alarm</td>\n",
       "      <td>ALARM, AUDIBLE</td>\n",
       "      <td>N</td>\n",
       "      <td>1033A</td>\n",
       "      <td>2021-07-28</td>\n",
       "      <td>04:16:53.000</td>\n",
       "    </tr>\n",
       "    <tr>\n",
       "      <th>3</th>\n",
       "      <td>S212090031</td>\n",
       "      <td>2021-07-28T02:28:57.000</td>\n",
       "      <td>Other</td>\n",
       "      <td>TRESPASSING</td>\n",
       "      <td>N</td>\n",
       "      <td>602</td>\n",
       "      <td>2021-07-28</td>\n",
       "      <td>02:28:57.000</td>\n",
       "    </tr>\n",
       "    <tr>\n",
       "      <th>4</th>\n",
       "      <td>S212090029</td>\n",
       "      <td>2021-07-28T02:27:25.000</td>\n",
       "      <td>Disorder</td>\n",
       "      <td>DISTURBANCE, MUSIC</td>\n",
       "      <td>N</td>\n",
       "      <td>415M</td>\n",
       "      <td>2021-07-28</td>\n",
       "      <td>02:27:25.000</td>\n",
       "    </tr>\n",
       "  </tbody>\n",
       "</table>\n",
       "</div>"
      ],
      "text/plain": [
       "  case_number        incident_datetime parent_incident_type  \\\n",
       "0  S212090045  2021-07-28T05:08:31.000                Other   \n",
       "1  S212090044  2021-07-28T04:41:45.000             Burglary   \n",
       "2  S212090042  2021-07-28T04:16:53.000                Alarm   \n",
       "3  S212090031  2021-07-28T02:28:57.000                Other   \n",
       "4  S212090029  2021-07-28T02:27:25.000             Disorder   \n",
       "\n",
       "  incident_type_primary final_disposition call_type incident_date  \\\n",
       "0           PERSON DOWN                 N      1053    2021-07-28   \n",
       "1        BURGLARY (460)                 N       459    2021-07-28   \n",
       "2        ALARM, AUDIBLE                 N     1033A    2021-07-28   \n",
       "3           TRESPASSING                 N       602    2021-07-28   \n",
       "4    DISTURBANCE, MUSIC                 N      415M    2021-07-28   \n",
       "\n",
       "  incident_time  \n",
       "0  05:08:31.000  \n",
       "1  04:41:45.000  \n",
       "2  04:16:53.000  \n",
       "3  02:28:57.000  \n",
       "4  02:27:25.000  "
      ]
     },
     "execution_count": 36,
     "metadata": {},
     "output_type": "execute_result"
    }
   ],
   "source": [
    "df= df.drop(columns =['incident_description','city','state','address_1'])\n",
    "df.head()"
   ]
  },
  {
   "cell_type": "code",
   "execution_count": 32,
   "metadata": {
    "scrolled": true
   },
   "outputs": [],
   "source": [
    "# spilt the incident_datetime to date and time\n",
    "df[['incident_date','incident_time']] = df.incident_datetime.str.split('T', 1,expand = True)"
   ]
  },
  {
   "cell_type": "code",
   "execution_count": null,
   "metadata": {},
   "outputs": [],
   "source": [
    "df.incident_date = pd.to_datetime(df.incident_date)\n",
    "df.incident_time = pd.to_datetime(df.incident_time)"
   ]
  },
  {
   "cell_type": "code",
   "execution_count": 53,
   "metadata": {},
   "outputs": [],
   "source": [
    "df = df.loc[(df['incident_date'] >= '2020-1-1')]"
   ]
  },
  {
   "cell_type": "code",
   "execution_count": 54,
   "metadata": {},
   "outputs": [
    {
     "name": "stdout",
     "output_type": "stream",
     "text": [
      "<class 'pandas.core.frame.DataFrame'>\n",
      "Int64Index: 135151 entries, 0 to 141125\n",
      "Data columns (total 8 columns):\n",
      " #   Column                 Non-Null Count   Dtype         \n",
      "---  ------                 --------------   -----         \n",
      " 0   case_number            135151 non-null  object        \n",
      " 1   incident_datetime      135151 non-null  object        \n",
      " 2   parent_incident_type   135151 non-null  object        \n",
      " 3   incident_type_primary  135151 non-null  object        \n",
      " 4   final_disposition      135151 non-null  object        \n",
      " 5   call_type              135151 non-null  object        \n",
      " 6   incident_date          135151 non-null  datetime64[ns]\n",
      " 7   incident_time          135151 non-null  datetime64[ns]\n",
      "dtypes: datetime64[ns](2), object(6)\n",
      "memory usage: 6.2+ MB\n"
     ]
    }
   ],
   "source": [
    "df.info()"
   ]
  },
  {
   "cell_type": "code",
   "execution_count": 55,
   "metadata": {},
   "outputs": [
    {
     "data": {
      "text/html": [
       "<div>\n",
       "<style scoped>\n",
       "    .dataframe tbody tr th:only-of-type {\n",
       "        vertical-align: middle;\n",
       "    }\n",
       "\n",
       "    .dataframe tbody tr th {\n",
       "        vertical-align: top;\n",
       "    }\n",
       "\n",
       "    .dataframe thead th {\n",
       "        text-align: right;\n",
       "    }\n",
       "</style>\n",
       "<table border=\"1\" class=\"dataframe\">\n",
       "  <thead>\n",
       "    <tr style=\"text-align: right;\">\n",
       "      <th></th>\n",
       "      <th>case_number</th>\n",
       "      <th>incident_datetime</th>\n",
       "      <th>parent_incident_type</th>\n",
       "      <th>incident_type_primary</th>\n",
       "      <th>final_disposition</th>\n",
       "      <th>call_type</th>\n",
       "      <th>incident_date</th>\n",
       "      <th>incident_time</th>\n",
       "    </tr>\n",
       "  </thead>\n",
       "  <tbody>\n",
       "    <tr>\n",
       "      <th>count</th>\n",
       "      <td>135151</td>\n",
       "      <td>135151</td>\n",
       "      <td>135151</td>\n",
       "      <td>135151</td>\n",
       "      <td>135151</td>\n",
       "      <td>135151</td>\n",
       "      <td>135151</td>\n",
       "      <td>135151</td>\n",
       "    </tr>\n",
       "    <tr>\n",
       "      <th>unique</th>\n",
       "      <td>135151</td>\n",
       "      <td>135114</td>\n",
       "      <td>25</td>\n",
       "      <td>243</td>\n",
       "      <td>47</td>\n",
       "      <td>235</td>\n",
       "      <td>574</td>\n",
       "      <td>63579</td>\n",
       "    </tr>\n",
       "    <tr>\n",
       "      <th>top</th>\n",
       "      <td>S201500285</td>\n",
       "      <td>2021-03-17T15:19:52.000</td>\n",
       "      <td>Other</td>\n",
       "      <td>EVENT FOR INFO ONLY</td>\n",
       "      <td>N</td>\n",
       "      <td>INFO</td>\n",
       "      <td>2020-07-04 00:00:00</td>\n",
       "      <td>2021-07-28 11:22:03</td>\n",
       "    </tr>\n",
       "    <tr>\n",
       "      <th>freq</th>\n",
       "      <td>1</td>\n",
       "      <td>2</td>\n",
       "      <td>45400</td>\n",
       "      <td>10905</td>\n",
       "      <td>64751</td>\n",
       "      <td>10905</td>\n",
       "      <td>563</td>\n",
       "      <td>11</td>\n",
       "    </tr>\n",
       "    <tr>\n",
       "      <th>first</th>\n",
       "      <td>NaN</td>\n",
       "      <td>NaN</td>\n",
       "      <td>NaN</td>\n",
       "      <td>NaN</td>\n",
       "      <td>NaN</td>\n",
       "      <td>NaN</td>\n",
       "      <td>2020-01-01 00:00:00</td>\n",
       "      <td>2021-07-28 00:00:00</td>\n",
       "    </tr>\n",
       "    <tr>\n",
       "      <th>last</th>\n",
       "      <td>NaN</td>\n",
       "      <td>NaN</td>\n",
       "      <td>NaN</td>\n",
       "      <td>NaN</td>\n",
       "      <td>NaN</td>\n",
       "      <td>NaN</td>\n",
       "      <td>2021-07-28 00:00:00</td>\n",
       "      <td>2021-07-28 23:59:59</td>\n",
       "    </tr>\n",
       "  </tbody>\n",
       "</table>\n",
       "</div>"
      ],
      "text/plain": [
       "       case_number        incident_datetime parent_incident_type  \\\n",
       "count       135151                   135151               135151   \n",
       "unique      135151                   135114                   25   \n",
       "top     S201500285  2021-03-17T15:19:52.000                Other   \n",
       "freq             1                        2                45400   \n",
       "first          NaN                      NaN                  NaN   \n",
       "last           NaN                      NaN                  NaN   \n",
       "\n",
       "       incident_type_primary final_disposition call_type        incident_date  \\\n",
       "count                 135151            135151    135151               135151   \n",
       "unique                   243                47       235                  574   \n",
       "top      EVENT FOR INFO ONLY                 N      INFO  2020-07-04 00:00:00   \n",
       "freq                   10905             64751     10905                  563   \n",
       "first                    NaN               NaN       NaN  2020-01-01 00:00:00   \n",
       "last                     NaN               NaN       NaN  2021-07-28 00:00:00   \n",
       "\n",
       "              incident_time  \n",
       "count                135151  \n",
       "unique                63579  \n",
       "top     2021-07-28 11:22:03  \n",
       "freq                     11  \n",
       "first   2021-07-28 00:00:00  \n",
       "last    2021-07-28 23:59:59  "
      ]
     },
     "execution_count": 55,
     "metadata": {},
     "output_type": "execute_result"
    }
   ],
   "source": [
    "df.describe()"
   ]
  },
  {
   "cell_type": "code",
   "execution_count": 42,
   "metadata": {},
   "outputs": [],
   "source": [
    "df.to_csv('Crime_Reports_072821_cleaned.csv', index = False)"
   ]
  },
  {
   "cell_type": "markdown",
   "metadata": {},
   "source": [
    "### Line Chart using pyplot and seaborn"
   ]
  },
  {
   "cell_type": "markdown",
   "metadata": {},
   "source": [
    "1. Overall Trend of Crime Reports"
   ]
  },
  {
   "cell_type": "code",
   "execution_count": 56,
   "metadata": {},
   "outputs": [
    {
     "name": "stderr",
     "output_type": "stream",
     "text": [
      "<ipython-input-56-963cfe967d17>:2: SettingWithCopyWarning: \n",
      "A value is trying to be set on a copy of a slice from a DataFrame.\n",
      "Try using .loc[row_indexer,col_indexer] = value instead\n",
      "\n",
      "See the caveats in the documentation: https://pandas.pydata.org/pandas-docs/stable/user_guide/indexing.html#returning-a-view-versus-a-copy\n",
      "  df_count_month['month'] = pd.DatetimeIndex(df['incident_date']).month\n",
      "<ipython-input-56-963cfe967d17>:3: SettingWithCopyWarning: \n",
      "A value is trying to be set on a copy of a slice from a DataFrame.\n",
      "Try using .loc[row_indexer,col_indexer] = value instead\n",
      "\n",
      "See the caveats in the documentation: https://pandas.pydata.org/pandas-docs/stable/user_guide/indexing.html#returning-a-view-versus-a-copy\n",
      "  df_count_month['year'] = pd.DatetimeIndex(df['incident_date']).year\n"
     ]
    }
   ],
   "source": [
    "# create a sub dataframe for the 1st plot with only relevent columns\n",
    "df_count_month = df[['case_number','incident_date']]\n",
    "\n",
    "# insert columns with month and year\n",
    "df_count_month['month'] = pd.DatetimeIndex(df['incident_date']).month\n",
    "df_count_month['year'] = pd.DatetimeIndex(df['incident_date']).year\n",
    "\n",
    "# drop incident_date since we replaced it with year and month columns\n",
    "df_count_month= df_count_month.drop(columns =['incident_date'])\n",
    "\n",
    "# group by month and year, get the total case count by year and month\n",
    "df_count_month = df_count_month.groupby(['month','year'])['case_number'].count().reset_index()\n",
    "df_count_month = df_count_month.rename(columns = {'case_number':'case_count'})\n",
    "\n",
    "# combine month and year column into a new column \n",
    "df_count_month['year_month'] = df_count_month['year'].astype(str) +'-' + df_count_month['month'].astype(str)\n",
    "df_count_month['year_month'] = (pd.to_datetime(df_count_month['year_month'], format = '%Y-%m')).dt.strftime('%Y-%m')\n",
    "df_count_month['year_month'] = df_count_month['year_month'].astype('datetime64')\n"
   ]
  },
  {
   "cell_type": "code",
   "execution_count": 65,
   "metadata": {},
   "outputs": [
    {
     "name": "stdout",
     "output_type": "stream",
     "text": [
      "7113.210526315789\n"
     ]
    }
   ],
   "source": [
    "# get the monthly average as the comparison line in the plot\n",
    "monthly_average = df_count_month['case_count'].mean()\n",
    "print(monthly_average)"
   ]
  },
  {
   "cell_type": "code",
   "execution_count": 67,
   "metadata": {},
   "outputs": [
    {
     "data": {
      "image/png": "[encoded data removed]",
      "text/plain": [
       "<Figure size 1080x288 with 2 Axes>"
      ]
     },
     "metadata": {
      "needs_background": "light"
     },
     "output_type": "display_data"
    }
   ],
   "source": [
    "# create two plot to show trend of 1. year over year ; 2. over the two years\n",
    "\n",
    "plt.figure(figsize=(15,4))\n",
    "plt.subplot(1, 2, 1)\n",
    "linechart1 = sns.lineplot(data =df_count_month, x = 'month', y = 'case_count',hue = 'year')\n",
    "\n",
    "linechart1.axhline(monthly_average, label ='Monthly Average', color = 'Orange')\n",
    "linechart1.set(xlabel ='Month', ylabel ='Case Count')\n",
    "linechart1.set_xticks(range(1,13))\n",
    "months = ['Jan', 'Feb', 'Mar', 'Apr', 'May', 'Jun', 'Jul', 'Aug', 'Sep', 'Oct', 'Nov', 'Dec']\n",
    "linechart1.set_xticklabels(months, rotation = 30,size = 10)\n",
    "plt.legend(loc='upper right')\n",
    "plt.title('Crime Case trend year over year Jan/2020-July/2021', size = 15, pad = 30)\n",
    "linechart1.spines['top'].set_visible(False)\n",
    "linechart1.spines['right'].set_visible(False)\n",
    "\n",
    "\n",
    "plt.subplot(1, 2, 2)\n",
    "linechart2 = sns.lineplot(data =df_count_month, x = 'year_month', y = 'case_count')\n",
    "linechart2.axhline(monthly_average, label ='Monthly Average', color = 'orange')\n",
    "plt.ylabel('Case Count')\n",
    "plt.xlabel('Year and Month')\n",
    "plt.xticks(rotation=45)\n",
    "plt.title('Crime Case trend over time Jan/2020-July/2021', size = 15, pad = 30)\n",
    "linechart2.spines['top'].set_visible(False)\n",
    "linechart2.spines['right'].set_visible(False)\n",
    "\n"
   ]
  },
  {
   "cell_type": "markdown",
   "metadata": {},
   "source": [
    "2. Crime reports by type and hours - when crime mostly reported"
   ]
  },
  {
   "cell_type": "code",
   "execution_count": 79,
   "metadata": {},
   "outputs": [
    {
     "name": "stderr",
     "output_type": "stream",
     "text": [
      "<ipython-input-79-025916168d4d>:2: SettingWithCopyWarning: \n",
      "A value is trying to be set on a copy of a slice from a DataFrame.\n",
      "Try using .loc[row_indexer,col_indexer] = value instead\n",
      "\n",
      "See the caveats in the documentation: https://pandas.pydata.org/pandas-docs/stable/user_guide/indexing.html#returning-a-view-versus-a-copy\n",
      "  df_type_count['incident_hour'] = df_type_count['incident_time'].dt.strftime('%H')\n",
      "<ipython-input-79-025916168d4d>:3: SettingWithCopyWarning: \n",
      "A value is trying to be set on a copy of a slice from a DataFrame.\n",
      "Try using .loc[row_indexer,col_indexer] = value instead\n",
      "\n",
      "See the caveats in the documentation: https://pandas.pydata.org/pandas-docs/stable/user_guide/indexing.html#returning-a-view-versus-a-copy\n",
      "  df_type_count['incident_hour'] = pd.to_numeric(df_type_count['incident_hour'])\n"
     ]
    },
    {
     "data": {
      "text/html": [
       "<div>\n",
       "<style scoped>\n",
       "    .dataframe tbody tr th:only-of-type {\n",
       "        vertical-align: middle;\n",
       "    }\n",
       "\n",
       "    .dataframe tbody tr th {\n",
       "        vertical-align: top;\n",
       "    }\n",
       "\n",
       "    .dataframe thead th {\n",
       "        text-align: right;\n",
       "    }\n",
       "</style>\n",
       "<table border=\"1\" class=\"dataframe\">\n",
       "  <thead>\n",
       "    <tr style=\"text-align: right;\">\n",
       "      <th></th>\n",
       "      <th>case_number</th>\n",
       "      <th>parent_incident_type</th>\n",
       "      <th>final_disposition</th>\n",
       "      <th>incident_date</th>\n",
       "      <th>incident_hour</th>\n",
       "    </tr>\n",
       "  </thead>\n",
       "  <tbody>\n",
       "    <tr>\n",
       "      <th>0</th>\n",
       "      <td>S212090045</td>\n",
       "      <td>Other</td>\n",
       "      <td>N</td>\n",
       "      <td>2021-07-28</td>\n",
       "      <td>5</td>\n",
       "    </tr>\n",
       "    <tr>\n",
       "      <th>1</th>\n",
       "      <td>S212090044</td>\n",
       "      <td>Burglary</td>\n",
       "      <td>N</td>\n",
       "      <td>2021-07-28</td>\n",
       "      <td>4</td>\n",
       "    </tr>\n",
       "    <tr>\n",
       "      <th>2</th>\n",
       "      <td>S212090042</td>\n",
       "      <td>Alarm</td>\n",
       "      <td>N</td>\n",
       "      <td>2021-07-28</td>\n",
       "      <td>4</td>\n",
       "    </tr>\n",
       "    <tr>\n",
       "      <th>3</th>\n",
       "      <td>S212090031</td>\n",
       "      <td>Other</td>\n",
       "      <td>N</td>\n",
       "      <td>2021-07-28</td>\n",
       "      <td>2</td>\n",
       "    </tr>\n",
       "    <tr>\n",
       "      <th>4</th>\n",
       "      <td>S212090029</td>\n",
       "      <td>Disorder</td>\n",
       "      <td>N</td>\n",
       "      <td>2021-07-28</td>\n",
       "      <td>2</td>\n",
       "    </tr>\n",
       "  </tbody>\n",
       "</table>\n",
       "</div>"
      ],
      "text/plain": [
       "  case_number parent_incident_type final_disposition incident_date  \\\n",
       "0  S212090045                Other                 N    2021-07-28   \n",
       "1  S212090044             Burglary                 N    2021-07-28   \n",
       "2  S212090042                Alarm                 N    2021-07-28   \n",
       "3  S212090031                Other                 N    2021-07-28   \n",
       "4  S212090029             Disorder                 N    2021-07-28   \n",
       "\n",
       "   incident_hour  \n",
       "0              5  \n",
       "1              4  \n",
       "2              4  \n",
       "3              2  \n",
       "4              2  "
      ]
     },
     "execution_count": 79,
     "metadata": {},
     "output_type": "execute_result"
    }
   ],
   "source": [
    "df_type_count = df[['case_number','parent_incident_type','final_disposition','incident_date','incident_time']]\n",
    "df_type_count['incident_hour'] = df_type_count['incident_time'].dt.strftime('%H')\n",
    "df_type_count['incident_hour'] = pd.to_numeric(df_type_count['incident_hour'])\n",
    "df_type_count = df_type_count[['case_number', 'parent_incident_type','final_disposition','incident_date','incident_hour' ]]\n",
    "df_type_count.head()"
   ]
  },
  {
   "cell_type": "code",
   "execution_count": 136,
   "metadata": {},
   "outputs": [
    {
     "name": "stdout",
     "output_type": "stream",
     "text": [
      "23\n"
     ]
    }
   ],
   "source": [
    "print(max(df_type_count.incident_hour.unique()))"
   ]
  },
  {
   "cell_type": "code",
   "execution_count": 82,
   "metadata": {},
   "outputs": [
    {
     "name": "stdout",
     "output_type": "stream",
     "text": [
      "['Other' 'Burglary' 'Alarm' 'Disorder' 'Community Policing'\n",
      " 'Weapons Offense' 'Property Crime' 'Traffic' 'Vehicle Theft' 'Assault'\n",
      " 'Theft' 'Missing Person' 'Other Sexual Offense' 'Vehicle Recovery'\n",
      " 'Vehicle Burglary' 'Narcotics' 'Assault w/ Deadly Weapon' 'Robbery'\n",
      " 'Arson' 'Death' 'Family Offense' 'Liquor' 'Proactive Policing - Vehi'\n",
      " 'Proactive Policing - Pede']\n"
     ]
    }
   ],
   "source": [
    "# other is one of the parent_incident_type should be sum with Other\n",
    "df_type_count.loc[df_type_count.parent_incident_type == 'other','parent_incident_type'] ='Other'\n",
    "print(df_type_count['parent_incident_type'].unique())"
   ]
  },
  {
   "cell_type": "code",
   "execution_count": 222,
   "metadata": {},
   "outputs": [
    {
     "data": {
      "text/html": [
       "<div>\n",
       "<style scoped>\n",
       "    .dataframe tbody tr th:only-of-type {\n",
       "        vertical-align: middle;\n",
       "    }\n",
       "\n",
       "    .dataframe tbody tr th {\n",
       "        vertical-align: top;\n",
       "    }\n",
       "\n",
       "    .dataframe thead th {\n",
       "        text-align: right;\n",
       "    }\n",
       "</style>\n",
       "<table border=\"1\" class=\"dataframe\">\n",
       "  <thead>\n",
       "    <tr style=\"text-align: right;\">\n",
       "      <th></th>\n",
       "      <th>parent_incident_type</th>\n",
       "      <th>final_disposition</th>\n",
       "      <th>incident_date</th>\n",
       "      <th>incident_hour</th>\n",
       "      <th>case_count</th>\n",
       "      <th>incident_month</th>\n",
       "      <th>incident_day</th>\n",
       "    </tr>\n",
       "  </thead>\n",
       "  <tbody>\n",
       "    <tr>\n",
       "      <th>30029</th>\n",
       "      <td>Disorder</td>\n",
       "      <td>IN</td>\n",
       "      <td>2021-07-04</td>\n",
       "      <td>21</td>\n",
       "      <td>41</td>\n",
       "      <td>7</td>\n",
       "      <td>4</td>\n",
       "    </tr>\n",
       "    <tr>\n",
       "      <th>29468</th>\n",
       "      <td>Disorder</td>\n",
       "      <td>IN</td>\n",
       "      <td>2020-07-04</td>\n",
       "      <td>21</td>\n",
       "      <td>41</td>\n",
       "      <td>7</td>\n",
       "      <td>4</td>\n",
       "    </tr>\n",
       "    <tr>\n",
       "      <th>19539</th>\n",
       "      <td>Community Policing</td>\n",
       "      <td>N</td>\n",
       "      <td>2020-07-23</td>\n",
       "      <td>10</td>\n",
       "      <td>30</td>\n",
       "      <td>7</td>\n",
       "      <td>23</td>\n",
       "    </tr>\n",
       "    <tr>\n",
       "      <th>70295</th>\n",
       "      <td>Proactive Policing - Vehi</td>\n",
       "      <td>T</td>\n",
       "      <td>2020-02-06</td>\n",
       "      <td>9</td>\n",
       "      <td>22</td>\n",
       "      <td>2</td>\n",
       "      <td>6</td>\n",
       "    </tr>\n",
       "    <tr>\n",
       "      <th>29147</th>\n",
       "      <td>Disorder</td>\n",
       "      <td>DU</td>\n",
       "      <td>2021-07-04</td>\n",
       "      <td>21</td>\n",
       "      <td>21</td>\n",
       "      <td>7</td>\n",
       "      <td>4</td>\n",
       "    </tr>\n",
       "  </tbody>\n",
       "</table>\n",
       "</div>"
      ],
      "text/plain": [
       "            parent_incident_type final_disposition incident_date  \\\n",
       "30029                   Disorder                IN    2021-07-04   \n",
       "29468                   Disorder                IN    2020-07-04   \n",
       "19539         Community Policing                 N    2020-07-23   \n",
       "70295  Proactive Policing - Vehi                 T    2020-02-06   \n",
       "29147                   Disorder                DU    2021-07-04   \n",
       "\n",
       "       incident_hour  case_count  incident_month  incident_day  \n",
       "30029             21          41               7             4  \n",
       "29468             21          41               7             4  \n",
       "19539             10          30               7            23  \n",
       "70295              9          22               2             6  \n",
       "29147             21          21               7             4  "
      ]
     },
     "execution_count": 222,
     "metadata": {},
     "output_type": "execute_result"
    }
   ],
   "source": [
    "df_type_count_hour = df_type_count.groupby(['parent_incident_type'\n",
    "                                            ,'final_disposition'\n",
    "                                            , 'incident_date'\n",
    "                                            , 'incident_hour']).count().reset_index()\n",
    "df_type_count_hour = df_type_count_hour.rename(columns = {'case_number': 'case_count'})\n",
    "df_type_count_hour = df_type_count_hour.sort_values(by='case_count', ascending = False)\n",
    "df_type_count_hour['incident_month'] = pd.DatetimeIndex(df_type_count_hour['incident_date']).month\n",
    "df_type_count_hour['incident_day'] = pd.DatetimeIndex(df_type_count_hour['incident_date']).day\n",
    "df_type_count_hour.head()"
   ]
  },
  {
   "cell_type": "code",
   "execution_count": 213,
   "metadata": {},
   "outputs": [
    {
     "data": {
      "text/plain": [
       "41"
      ]
     },
     "execution_count": 213,
     "metadata": {},
     "output_type": "execute_result"
    }
   ],
   "source": [
    "# double check to see if number of count is correct\n",
    "df_type_count[(df_type_count.parent_incident_type == 'Disorder') \n",
    "              & (df_type_count.final_disposition == 'IN') \n",
    "              & (df_type_count.incident_date== '2021-07-04')\n",
    "              &(df_type_count.incident_hour == 21)].case_number.count()\n"
   ]
  },
  {
   "cell_type": "code",
   "execution_count": 225,
   "metadata": {},
   "outputs": [
    {
     "data": {
      "text/html": [
       "<div>\n",
       "<style scoped>\n",
       "    .dataframe tbody tr th:only-of-type {\n",
       "        vertical-align: middle;\n",
       "    }\n",
       "\n",
       "    .dataframe tbody tr th {\n",
       "        vertical-align: top;\n",
       "    }\n",
       "\n",
       "    .dataframe thead th {\n",
       "        text-align: right;\n",
       "    }\n",
       "</style>\n",
       "<table border=\"1\" class=\"dataframe\">\n",
       "  <thead>\n",
       "    <tr style=\"text-align: right;\">\n",
       "      <th></th>\n",
       "      <th>incident_hour</th>\n",
       "      <th>incident_month</th>\n",
       "      <th>incident_day</th>\n",
       "      <th>parent_incident_type</th>\n",
       "      <th>final_disposition</th>\n",
       "      <th>incident_date</th>\n",
       "      <th>case_count</th>\n",
       "    </tr>\n",
       "  </thead>\n",
       "  <tbody>\n",
       "    <tr>\n",
       "      <th>0</th>\n",
       "      <td>0</td>\n",
       "      <td>1</td>\n",
       "      <td>1</td>\n",
       "      <td>16</td>\n",
       "      <td>16</td>\n",
       "      <td>16</td>\n",
       "      <td>16</td>\n",
       "    </tr>\n",
       "    <tr>\n",
       "      <th>1</th>\n",
       "      <td>0</td>\n",
       "      <td>1</td>\n",
       "      <td>2</td>\n",
       "      <td>6</td>\n",
       "      <td>6</td>\n",
       "      <td>6</td>\n",
       "      <td>6</td>\n",
       "    </tr>\n",
       "    <tr>\n",
       "      <th>2</th>\n",
       "      <td>0</td>\n",
       "      <td>1</td>\n",
       "      <td>3</td>\n",
       "      <td>13</td>\n",
       "      <td>13</td>\n",
       "      <td>13</td>\n",
       "      <td>13</td>\n",
       "    </tr>\n",
       "    <tr>\n",
       "      <th>3</th>\n",
       "      <td>0</td>\n",
       "      <td>1</td>\n",
       "      <td>4</td>\n",
       "      <td>11</td>\n",
       "      <td>11</td>\n",
       "      <td>11</td>\n",
       "      <td>11</td>\n",
       "    </tr>\n",
       "    <tr>\n",
       "      <th>4</th>\n",
       "      <td>0</td>\n",
       "      <td>1</td>\n",
       "      <td>5</td>\n",
       "      <td>10</td>\n",
       "      <td>10</td>\n",
       "      <td>10</td>\n",
       "      <td>10</td>\n",
       "    </tr>\n",
       "  </tbody>\n",
       "</table>\n",
       "</div>"
      ],
      "text/plain": [
       "   incident_hour  incident_month  incident_day  parent_incident_type  \\\n",
       "0              0               1             1                    16   \n",
       "1              0               1             2                     6   \n",
       "2              0               1             3                    13   \n",
       "3              0               1             4                    11   \n",
       "4              0               1             5                    10   \n",
       "\n",
       "   final_disposition  incident_date  case_count  \n",
       "0                 16             16          16  \n",
       "1                  6              6           6  \n",
       "2                 13             13          13  \n",
       "3                 11             11          11  \n",
       "4                 10             10          10  "
      ]
     },
     "execution_count": 225,
     "metadata": {},
     "output_type": "execute_result"
    }
   ],
   "source": [
    "df_count_hour = df_type_count_hour.groupby(['incident_hour', 'incident_month','incident_day']).count().reset_index()\n",
    "df_count_hour.head()"
   ]
  },
  {
   "cell_type": "code",
   "execution_count": 252,
   "metadata": {},
   "outputs": [
    {
     "data": {
      "image/png": "[encoded data removed]",
      "text/plain": [
       "<Figure size 432x288 with 1 Axes>"
      ]
     },
     "metadata": {
      "needs_background": "light"
     },
     "output_type": "display_data"
    }
   ],
   "source": [
    "plt.hist(df_type_count['incident_hour'], bins = 24)\n",
    "plt.xticks(range(0,24))\n",
    "plt.title('Total Case Count by hours', pad = 20)\n",
    "plt.show()"
   ]
  },
  {
   "cell_type": "code",
   "execution_count": 144,
   "metadata": {},
   "outputs": [
    {
     "data": {
      "text/html": [
       "<div>\n",
       "<style scoped>\n",
       "    .dataframe tbody tr th:only-of-type {\n",
       "        vertical-align: middle;\n",
       "    }\n",
       "\n",
       "    .dataframe tbody tr th {\n",
       "        vertical-align: top;\n",
       "    }\n",
       "\n",
       "    .dataframe thead th {\n",
       "        text-align: right;\n",
       "    }\n",
       "</style>\n",
       "<table border=\"1\" class=\"dataframe\">\n",
       "  <thead>\n",
       "    <tr style=\"text-align: right;\">\n",
       "      <th></th>\n",
       "      <th>case_count</th>\n",
       "      <th>parent_incident_type</th>\n",
       "      <th>final_disposition</th>\n",
       "      <th>incident_date</th>\n",
       "      <th>incident_hour</th>\n",
       "    </tr>\n",
       "  </thead>\n",
       "  <tbody>\n",
       "    <tr>\n",
       "      <th>0</th>\n",
       "      <td>S212090045</td>\n",
       "      <td>Other</td>\n",
       "      <td>N</td>\n",
       "      <td>2021-07-28</td>\n",
       "      <td>5</td>\n",
       "    </tr>\n",
       "    <tr>\n",
       "      <th>1</th>\n",
       "      <td>S212090044</td>\n",
       "      <td>Burglary</td>\n",
       "      <td>N</td>\n",
       "      <td>2021-07-28</td>\n",
       "      <td>4</td>\n",
       "    </tr>\n",
       "    <tr>\n",
       "      <th>2</th>\n",
       "      <td>S212090042</td>\n",
       "      <td>Alarm</td>\n",
       "      <td>N</td>\n",
       "      <td>2021-07-28</td>\n",
       "      <td>4</td>\n",
       "    </tr>\n",
       "    <tr>\n",
       "      <th>3</th>\n",
       "      <td>S212090031</td>\n",
       "      <td>Other</td>\n",
       "      <td>N</td>\n",
       "      <td>2021-07-28</td>\n",
       "      <td>2</td>\n",
       "    </tr>\n",
       "    <tr>\n",
       "      <th>4</th>\n",
       "      <td>S212090029</td>\n",
       "      <td>Disorder</td>\n",
       "      <td>N</td>\n",
       "      <td>2021-07-28</td>\n",
       "      <td>2</td>\n",
       "    </tr>\n",
       "  </tbody>\n",
       "</table>\n",
       "</div>"
      ],
      "text/plain": [
       "   case_count parent_incident_type final_disposition incident_date  \\\n",
       "0  S212090045                Other                 N    2021-07-28   \n",
       "1  S212090044             Burglary                 N    2021-07-28   \n",
       "2  S212090042                Alarm                 N    2021-07-28   \n",
       "3  S212090031                Other                 N    2021-07-28   \n",
       "4  S212090029             Disorder                 N    2021-07-28   \n",
       "\n",
       "   incident_hour  \n",
       "0              5  \n",
       "1              4  \n",
       "2              4  \n",
       "3              2  \n",
       "4              2  "
      ]
     },
     "execution_count": 144,
     "metadata": {},
     "output_type": "execute_result"
    }
   ],
   "source": [
    "df_type_group = df_type_count.groupby(['parent_incident_type'])['case_number'].count().reset_index()\n",
    "df_type_group= df_type_count.rename(columns ={'case_number':'case_count'})\n",
    "df_type_group = df_type_group.sort_values(by ='case_count', ascending=False,ignore_index = True)\n",
    "df_type_group.head()"
   ]
  },
  {
   "cell_type": "code",
   "execution_count": 96,
   "metadata": {},
   "outputs": [
    {
     "data": {
      "image/png": "[encoded data removed]",
      "text/plain": [
       "<Figure size 2880x1080 with 24 Axes>"
      ]
     },
     "metadata": {
      "needs_background": "light"
     },
     "output_type": "display_data"
    }
   ],
   "source": [
    "# use the sorted list by cased count\n",
    "incident_type = list(df_type_group['parent_incident_type'].unique())\n",
    "plt.figure(figsize = (40,15))\n",
    "plt.subplots_adjust()\n",
    "\n",
    "plt.suptitle('Case Count by Type and Hour', size =20, y=1.05)\n",
    "\n",
    "#subplots_adjust(left=None, bottom=None, right=None, top=None, wspace=None, hspace=None)\n",
    "\n",
    "for i, type in enumerate(incident_type):\n",
    "    plt.subplot(5, 5, i+1)\n",
    "    df_hist = df_type_group[df_type_group['parent_incident_type'] == type]\n",
    "    plt.hist(df_hist['incident_hour'], bins = 24)\n",
    "    plt.xticks(range(0,24))\n",
    "    plt.xlabel('Time of the day (24 hours)')\n",
    "    plt.ylabel ('Case Count')\n",
    "    plt.title(type, pad = 10)\n",
    "    \n",
    "plt.tight_layout()\n",
    "plt.show()\n",
    "   "
   ]
  },
  {
   "cell_type": "markdown",
   "metadata": {},
   "source": [
    "Develop a model to predict the crime reports at certain hours\n",
    "* We will use a Random Forest Regression Model to make prediction of crime reports number based on the month, day and hour\n",
    "* R^2 and MAE are used to quanity our model's performance"
   ]
  },
  {
   "cell_type": "code",
   "execution_count": 188,
   "metadata": {},
   "outputs": [],
   "source": [
    "from sklearn.model_selection import train_test_split\n",
    "from sklearn.ensemble import RandomForestRegressor\n",
    "from sklearn.metrics import mean_absolute_error, r2_score"
   ]
  },
  {
   "cell_type": "code",
   "execution_count": 226,
   "metadata": {},
   "outputs": [],
   "source": [
    "# split into train test sets\n",
    "hours = df_count_hour[['incident_month','incident_day','incident_hour']]\n",
    "cases = df_count_hour[['case_count']]\n",
    "X_train, X_test, y_train, y_test = train_test_split(hours,cases,test_size=0.2,random_state=42)"
   ]
  },
  {
   "cell_type": "code",
   "execution_count": 210,
   "metadata": {},
   "outputs": [],
   "source": [
    "# print(X_train)\n",
    "# print(y_train)"
   ]
  },
  {
   "cell_type": "code",
   "execution_count": 227,
   "metadata": {},
   "outputs": [
    {
     "name": "stdout",
     "output_type": "stream",
     "text": [
      "(6852, 3) (1713, 3) (6852, 1) (1713, 1)\n"
     ]
    }
   ],
   "source": [
    "print(X_train.shape, X_test.shape, y_train.shape, y_test.shape)"
   ]
  },
  {
   "cell_type": "code",
   "execution_count": 228,
   "metadata": {},
   "outputs": [
    {
     "name": "stderr",
     "output_type": "stream",
     "text": [
      "<ipython-input-228-80117ba81d64>:3: DataConversionWarning: A column-vector y was passed when a 1d array was expected. Please change the shape of y to (n_samples,), for example using ravel().\n",
      "  model.fit(X_train, y_train)\n"
     ]
    },
    {
     "data": {
      "text/plain": [
       "RandomForestRegressor(random_state=42)"
      ]
     },
     "execution_count": 228,
     "metadata": {},
     "output_type": "execute_result"
    }
   ],
   "source": [
    "# fit the model\n",
    "model = RandomForestRegressor(random_state=42)\n",
    "model.fit(X_train, y_train)"
   ]
  },
  {
   "cell_type": "code",
   "execution_count": 229,
   "metadata": {},
   "outputs": [],
   "source": [
    "# make predictions\n",
    "yhat = model.predict(X_test)"
   ]
  },
  {
   "cell_type": "code",
   "execution_count": 230,
   "metadata": {},
   "outputs": [
    {
     "name": "stdout",
     "output_type": "stream",
     "text": [
      "MAE: 2.254\n",
      "R^2: 0.782\n"
     ]
    }
   ],
   "source": [
    "# evaluate predictions\n",
    "mae = mean_absolute_error(y_test, yhat)\n",
    "r2= r2_score(y_test, yhat)\n",
    "print('MAE: %.3f' % mae)\n",
    "print('R^2: %.3f' % r2)"
   ]
  },
  {
   "cell_type": "code",
   "execution_count": 251,
   "metadata": {},
   "outputs": [
    {
     "name": "stdout",
     "output_type": "stream",
     "text": [
      "Predicted Crime Report Counts at this day 7/17, during hour 17-18 is: 15\n",
      "Predicted Crime Report Counts at this day 6/6, during hour 12-13 is: 16\n",
      "Predicted Crime Report Counts at this day 11/5, during hour 6-7 is: 1\n"
     ]
    }
   ],
   "source": [
    "# entering new data [[month, day, hour]]\n",
    "new_data = [[7,17,17],\n",
    "            [6,6,12],\n",
    "            [11,5,6]]\n",
    "for i, case in enumerate(model.predict(new_data)):\n",
    "    # predicted crime report counts on this day 7/17, this hour 17 is : 14.91\n",
    "    print('Predicted Crime Report Counts at this day ' \n",
    "          + str(new_data[i][0])+ '/'+ str(new_data[i][1])\n",
    "          +', during hour '+ str(new_data[i][2]) + '-'+ str(new_data[i][2] +1) +' is: ' + str(int(round(case))))"
   ]
  },
  {
   "cell_type": "markdown",
   "metadata": {},
   "source": [
    "Conclusions:\n",
    "1. Overall trend for the number of crime reports is going down since 2020.\n",
    "2. Different type of crime reports have different distribution over the day. For total cases of all types, the number of crime reports goes up starts from 5-6 in the morning and flutuates a little and starts going down from 8-9 in the evening.\n",
    "3. The regression model we built is 78% acurate. There is a lot room to improve the accuracy by introducing more variables, for instance, the type of the crime report, etc,, which we will cover in future project."
   ]
  }
 ],
 "metadata": {
  "kernelspec": {
   "display_name": "Python 3",
   "language": "python",
   "name": "python3"
  },
  "language_info": {
   "codemirror_mode": {
    "name": "ipython",
    "version": 3
   },
   "file_extension": ".py",
   "mimetype": "text/x-python",
   "name": "python",
   "nbconvert_exporter": "python",
   "pygments_lexer": "ipython3",
   "version": "3.8.0"
  }
 },
 "nbformat": 4,
 "nbformat_minor": 4
}
